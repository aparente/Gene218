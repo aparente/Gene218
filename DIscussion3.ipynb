{
 "metadata": {
  "name": "",
  "signature": "sha256:2ff206fd84f406f2bf000d5394cbf48e96f5d95b981838aa2de0b3cb2cf9141d"
 },
 "nbformat": 3,
 "nbformat_minor": 0,
 "worksheets": [
  {
   "cells": [
    {
     "cell_type": "heading",
     "level": 6,
     "metadata": {},
     "source": [
      "Things to think about when writing code:\n",
      "    runtime\n",
      "    space "
     ]
    },
    {
     "cell_type": "code",
     "collapsed": false,
     "input": [
      "n = 0\n",
      "while n <length(s):\n",
      "    dinuc(=)[n:n+2]\n",
      "    if dinuc in d:\n",
      "        d\n",
      "        \n",
      "        ###get rest of notes"
     ],
     "language": "python",
     "metadata": {},
     "outputs": []
    },
    {
     "cell_type": "code",
     "collapsed": false,
     "input": [
      "##reverse complementing\n",
      "for in in range(0,l/2):\n",
      "    s=[]\n",
      "    t=[]\n",
      "    t=s[i]\n",
      "    s[i]=s[l-i-1]\n",
      "    s[l-i-1]=t"
     ],
     "language": "python",
     "metadata": {},
     "outputs": []
    },
    {
     "cell_type": "code",
     "collapsed": false,
     "input": [
      "echo | tr '[AGCT]' '[TGCA]' ##bash command"
     ],
     "language": "python",
     "metadata": {},
     "outputs": []
    },
    {
     "cell_type": "code",
     "collapsed": false,
     "input": [
      "##fastest and super easy way to complement, basically gives a 1:1 mapping\n",
      "from string import maketrans\n",
      "nucs=['A','G','C','T'] ##join is the opposite of split\n",
      "s.translate(maketrans(''.join(nucs),''.join(nucs[::-1])))[::-1] ##translation table, single quotes define empty string"
     ],
     "language": "python",
     "metadata": {},
     "outputs": []
    },
    {
     "cell_type": "code",
     "collapsed": false,
     "input": [
      "s[2:6:2] ##s[start:end:steplength]\n",
      "nucs[::-1]==['T','C','G','A'] ##goes through list in reverse"
     ],
     "language": "python",
     "metadata": {},
     "outputs": []
    },
    {
     "cell_type": "code",
     "collapsed": false,
     "input": [
      "##Working with open reading frames\n"
     ],
     "language": "python",
     "metadata": {},
     "outputs": []
    },
    {
     "cell_type": "code",
     "collapsed": false,
     "input": [
      "#s = e.coli genome\n",
      "#iterate over s, but only within 100kbp and > than 500bp\n",
      "#look for start and stop codons \n",
      "F=open('ColiDH1.fa', mode='rU')\n",
      "ORF=[]\n",
      "\n",
      " ##converting entire genome into a single line\n",
      "s=''\n",
      "for L in F:\n",
      "    s = s + L.strip()\n",
      "    \n",
      "##need to strip name at beginning \n",
      "prefix='>gi|315134697|dbj|AP012030.1| Escherichia coli DH1 (ME8569) DNA, complete genome'\n",
      "fullseq=s[len(prefix):]\n",
      "  \n",
      "##iterate \n",
      "ATGGTG=fullseq[fullseq.rfind('ATG'):fullseq.rfind('GTG'):3] ##will only find first instance\n",
      "if len(ATGGTG) > 500:\n",
      "    ORF.append(ATGGTG)\n",
      "\n"
     ],
     "language": "python",
     "metadata": {},
     "outputs": [
      {
       "output_type": "stream",
       "stream": "stdout",
       "text": [
        "\n"
       ]
      }
     ],
     "prompt_number": 24
    },
    {
     "cell_type": "raw",
     "metadata": {},
     "source": []
    },
    {
     "cell_type": "code",
     "collapsed": false,
     "input": [
      "coli=''\n",
      "with open(filename) as f:\n",
      "        f.readline(1)\n",
      "        for l in f:\n",
      "            coli+=l.strip()\n",
      "            \n",
      "start=['ATG','GTG','TTG']\n",
      "stop=['TAA','TGA','TAG']\n",
      "endindex=0\n",
      "stindex=0\n",
      "\n",
      "while endindex < 100000 and stindex==0: ##mapping can apply a function to a list and creates another list\n",
      "    stindex=min(map(lambda i: coli.find(i,endindex+1),list))  ##lambda specifies anonymous function in a single line\n",
      "endindex=stindex\n",
      "while (endindex-stindex)!= 1\n",
      "    endindex=+1\n",
      "    break\n",
      "endindex-=1\n",
      "print if \n",
      "min(map(lambda i:coli.find(i,endindex))) #find stop codon positions\n",
      "\n",
      "#list=[1,3,7]    \n",
      "#map(function,list) ##map takes the function and applies it to everything in the list\n"
     ],
     "language": "python",
     "metadata": {},
     "outputs": []
    }
   ],
   "metadata": {}
  }
 ]
}